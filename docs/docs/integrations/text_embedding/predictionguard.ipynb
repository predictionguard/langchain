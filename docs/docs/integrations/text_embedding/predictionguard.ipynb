{
 "cells": [
  {
   "cell_type": "markdown",
   "metadata": {},
   "source": "# Prediction Guard"
  },
  {
   "metadata": {},
   "cell_type": "markdown",
   "source": ">[Prediction Guard](https://predictionguard.com) is a secure, scalable GenAI platform that safeguards sensitive data, prevents common AI malfunctions, and runs on affordable hardware."
  },
  {
   "cell_type": "markdown",
   "metadata": {},
   "source": [
    "## Setup"
   ]
  },
  {
   "cell_type": "markdown",
   "metadata": {},
   "source": [
    "First, install the Prediction Guard and LangChain packages. Then, set the required env vars and set up package imports."
   ]
  },
  {
   "cell_type": "code",
   "execution_count": null,
   "metadata": {},
   "outputs": [],
   "source": [
    "%pip install --upgrade --quiet predictionguard langchain"
   ]
  },
  {
   "cell_type": "code",
   "execution_count": null,
   "metadata": {},
   "outputs": [],
   "source": [
    "import os\n",
    "\n",
    "os.environ[\"PREDICTIONGUARD_API_KEY\"] = \"<Your Prediction Guard API Key>\""
   ]
  },
  {
   "cell_type": "code",
   "execution_count": null,
   "metadata": {},
   "outputs": [],
   "source": "from langchain_community.embeddings.predictionguard import PredictionGuardEmbeddings"
  },
  {
   "cell_type": "code",
   "execution_count": null,
   "metadata": {},
   "outputs": [],
   "source": [
    "embeddings = PredictionGuardEmbeddings(model=\"bridgetower-large-itm-mlm-itc\")"
   ]
  },
  {
   "cell_type": "markdown",
   "metadata": {},
   "source": [
    "## Usage"
   ]
  },
  {
   "cell_type": "markdown",
   "metadata": {},
   "source": [
    "Prediction Guard embeddings generation supports both text and images. This integration includes that support spread across various functions."
   ]
  },
  {
   "cell_type": "markdown",
   "metadata": {},
   "source": [
    "### Text"
   ]
  },
  {
   "cell_type": "code",
   "execution_count": null,
   "metadata": {},
   "outputs": [],
   "source": [
    "# Embedding a single string\n",
    "text = \"This is an embedding example.\"\n",
    "output = embeddings.embed_query(text)\n",
    "\n",
    "output[:5]"
   ]
  },
  {
   "cell_type": "code",
   "execution_count": null,
   "metadata": {},
   "outputs": [],
   "source": [
    "# Embedding multiple strings\n",
    "docs = [\n",
    "    \"This is an embedding example.\", \n",
    "    \"This is another embedding example.\",\n",
    "    ]\n",
    "\n",
    "output = embeddings.embed_documents(docs)\n",
    "\n",
    "output[0][:5]"
   ]
  },
  {
   "cell_type": "markdown",
   "metadata": {},
   "source": [
    "### Images"
   ]
  },
  {
   "cell_type": "code",
   "execution_count": null,
   "metadata": {},
   "outputs": [],
   "source": [
    "# Embedding a single image. These functions accept image URLs, image files, data URIs, and base64 encoded strings.\n",
    "image = [\n",
    "    \"https://pbs.twimg.com/media/GKLN4qPXEAArqoK.png\",\n",
    "]\n",
    "output = embeddings.embed_images(image)\n",
    "\n",
    "output[:5]"
   ]
  },
  {
   "cell_type": "code",
   "execution_count": null,
   "metadata": {},
   "outputs": [],
   "source": [
    "# Embedding multiple images\n",
    "images = [\n",
    "    \"https://pbs.twimg.com/media/GKLN4qPXEAArqoK.png\", \n",
    "    \"https://farm4.staticflickr.com/3300/3497460990_11dfb95dd1_z.jpg\",\n",
    "    ]\n",
    "\n",
    "output = embeddings.embed_images(images)\n",
    "\n",
    "output[0][:5]"
   ]
  },
  {
   "cell_type": "markdown",
   "metadata": {},
   "source": [
    "### Text and Images"
   ]
  },
  {
   "cell_type": "code",
   "execution_count": null,
   "metadata": {},
   "outputs": [],
   "source": [
    "# Embedding a single text-image pair\n",
    "inputs = [\n",
    "    {\n",
    "        \"text\": \"This is an embedding example.\",\n",
    "        \"image\": \"https://pbs.twimg.com/media/GKLN4qPXEAArqoK.png\",\n",
    "    },\n",
    "]\n",
    "output = embeddings.embed_image_text(inputs)\n",
    "\n",
    "output[:5]"
   ]
  },
  {
   "cell_type": "code",
   "execution_count": null,
   "metadata": {},
   "outputs": [],
   "source": [
    "# Embedding multiple text-image pairs\n",
    "inputs = [\n",
    "    {\n",
    "        \"text\": \"This is an embedding example.\",\n",
    "        \"image\": \"https://pbs.twimg.com/media/GKLN4qPXEAArqoK.png\",\n",
    "    },\n",
    "    {\n",
    "        \"text\": \"This is another embedding example.\",\n",
    "        \"image\": \"https://farm4.staticflickr.com/3300/3497460990_11dfb95dd1_z.jpg\",\n",
    "    },\n",
    "]\n",
    "output = embeddings.embed_image_text(inputs)\n",
    "\n",
    "output[0][:5]"
   ]
  }
 ],
 "metadata": {
  "kernelspec": {
   "display_name": "Python 3",
   "language": "python",
   "name": "python3"
  },
  "language_info": {
   "codemirror_mode": {
    "name": "ipython",
    "version": 3
   },
   "file_extension": ".py",
   "mimetype": "text/x-python",
   "name": "python",
   "nbconvert_exporter": "python",
   "pygments_lexer": "ipython3",
   "version": "3.12.3"
  }
 },
 "nbformat": 4,
 "nbformat_minor": 2
}
